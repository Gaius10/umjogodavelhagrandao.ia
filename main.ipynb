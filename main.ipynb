{
  "cells": [
    {
      "cell_type": "markdown",
      "metadata": {
        "id": "2HELGH7q_P6V"
      },
      "source": [
        "# Códigos importantes\n",
        "\n"
      ]
    },
    {
      "cell_type": "markdown",
      "metadata": {
        "id": "4-HEgr3X_Tkr"
      },
      "source": [
        "## Tic Tac Toe"
      ]
    },
    {
      "cell_type": "code",
      "execution_count": null,
      "metadata": {
        "id": "0lT1A_Sn1ZOI"
      },
      "outputs": [
        {
          "name": "stderr",
          "output_type": "stream",
          "text": [
            "2025-03-30 20:54:06.034925: I tensorflow/tsl/cuda/cudart_stub.cc:28] Could not find cuda drivers on your machine, GPU will not be used.\n",
            "2025-03-30 20:54:06.123536: I tensorflow/tsl/cuda/cudart_stub.cc:28] Could not find cuda drivers on your machine, GPU will not be used.\n",
            "2025-03-30 20:54:06.126752: I tensorflow/core/platform/cpu_feature_guard.cc:182] This TensorFlow binary is optimized to use available CPU instructions in performance-critical operations.\n",
            "To enable the following instructions: AVX2 FMA, in other operations, rebuild TensorFlow with the appropriate compiler flags.\n",
            "2025-03-30 20:54:07.840531: W tensorflow/compiler/tf2tensorrt/utils/py_utils.cc:38] TF-TRT Warning: Could not find TensorRT\n"
          ]
        }
      ],
      "source": [
        "import numpy as np\n",
        "import matplotlib.pyplot as plt\n",
        "import seaborn as sns\n",
        "from tqdm.notebook import tqdm\n",
        "from agents import AlphaBetaAgent, HybridAgent\n",
        "from tictactoe import Game\n",
        "\n",
        "def simulateGames_freq(agent1, agent2, n=100):\n",
        "    '''\n",
        "    Recebe dois agentes e um numero n de simulações desejadas e\n",
        "    devolve uma matriz com a frequência em que cada casa foi ocupada pelo\n",
        "    vencedor\n",
        "    '''\n",
        "    board_size = 9\n",
        "    victory_counts = np.zeros((board_size, board_size))\n",
        "\n",
        "    # 🟩 Barra de progresso com tqdm\n",
        "    for i in tqdm(range(n), desc=\"Simulando jogos\", unit=\"jogo\"):\n",
        "        game = Game()\n",
        "        game.currPlayer = 1 if i % 2 == 0 else -1  # alterna quem começa\n",
        "        history = []\n",
        "\n",
        "        while not game.isEnd():\n",
        "            current_agent = agent1 if game.getCurrPlayer() == 1 else agent2\n",
        "            move = current_agent.getAction(game)\n",
        "            history.append((game.getCurrPlayer(), move))\n",
        "            game.move(move)\n",
        "\n",
        "        winner = game.getWinner()\n",
        "        if winner != 0:\n",
        "            for player, (r, c) in history:\n",
        "                if player == winner:\n",
        "                    victory_counts[r][c] += 1\n",
        "\n",
        "    # 🔢 Calcula proporção de vitórias por casa\n",
        "    victory_ratio = victory_counts / n\n",
        "\n",
        "    # 📊 Impressão dos resultados\n",
        "    return victory_ratio\n",
        "\n",
        "def plot_heatmap(victory_ratio):\n",
        "    plt.figure(figsize=(8, 6))\n",
        "    sns.heatmap(\n",
        "        victory_ratio,\n",
        "        annot=True,\n",
        "        fmt=\".3f\",\n",
        "        cmap=\"YlGnBu\",\n",
        "        cbar_kws={'label': 'Proporção de vitórias'},\n",
        "        square=True,\n",
        "        linewidths=0.5,\n",
        "        linecolor='gray'\n",
        "    )\n",
        "    plt.title(\"Heatmap das Casas Ocupadas pelo Jogador Vencedor\")\n",
        "    plt.xlabel(\"Colunas (0 a 8)\")\n",
        "    plt.ylabel(\"Linhas (0 a 8)\")\n",
        "    plt.tight_layout()\n",
        "    plt.show()"
      ]
    },
    {
      "cell_type": "markdown",
      "metadata": {
        "id": "MYnB9aKKRVcp"
      },
      "source": [
        "## Análises\n"
      ]
    },
    {
      "cell_type": "code",
      "execution_count": 2,
      "metadata": {
        "colab": {
          "base_uri": "https://localhost:8080/",
          "height": 639,
          "referenced_widgets": [
            "5b58c6e8f8bd481e931f0d9732dd4644",
            "0ea48201e9354345b1da0ecf7863e3a4",
            "bd50576baeb34c3ea37310b11e6a0570",
            "ca761a28877742658137b7c1b82fa554",
            "07357c87a67340748e31af8a6233a39d",
            "ff4a03ac564c448ab747bf3220d69cca",
            "79aa178c03f140f2b51d8759a7df632e",
            "4e7a0da4830c4fed8d64876160ed8013",
            "438c64f82c4044628aa4d728626add97",
            "38e8739c7cea47c9baacdf6ddc1da65a",
            "ee69af45d6bc4bb19ae456f55198d94e"
          ]
        },
        "id": "j_68DXmoBy93",
        "outputId": "f562b866-2bd7-4e46-acd5-bd7c4b9e1c54"
      },
      "outputs": [
        {
          "data": {
            "application/vnd.jupyter.widget-view+json": {
              "model_id": "a3432e182576472ba96259ba1c50bcb5",
              "version_major": 2,
              "version_minor": 0
            },
            "text/plain": [
              "Simulando jogos:   0%|          | 0/100 [00:00<?, ?jogo/s]"
            ]
          },
          "metadata": {},
          "output_type": "display_data"
        },
        {
          "data": {
            "application/vnd.jupyter.widget-view+json": {
              "model_id": "76ae22e8e86a4973a789ea281ef942ee",
              "version_major": 2,
              "version_minor": 0
            },
            "text/plain": [
              "Simulando jogos:   0%|          | 0/100 [00:00<?, ?jogo/s]"
            ]
          },
          "metadata": {},
          "output_type": "display_data"
        },
        {
          "data": {
            "image/png": "[encoded data removed]",
            "text/plain": [
              "<Figure size 800x600 with 2 Axes>"
            ]
          },
          "metadata": {},
          "output_type": "display_data"
        }
      ],
      "source": [
        "\n",
        "N = 100\n",
        "agent1 = AlphaBetaAgent(depth=2)  # Minimax\n",
        "agent2 = HybridAgent()            # Hybrid\n",
        "\n",
        "win_count_by_position = np.zeros((9, 9))\n",
        "fill_count_by_position = np.zeros((9, 9))\n",
        "\n",
        "for _ in tqdm(range(N), desc=\"Simulando jogos\", unit=\"jogo\"):\n",
        "    game = Game()\n",
        "    first_move = game.getRandomMove()\n",
        "    game.move(first_move)\n",
        "\n",
        "    while not game.isEnd():\n",
        "        current_agent = agent1 if game.getCurrPlayer() == 1 else agent2\n",
        "        move = current_agent.getAction(game)\n",
        "        game.move(move)\n",
        "\n",
        "    winner = game.getWinner()\n",
        "    if winner != 0:\n",
        "        board = game.getBoard()\n",
        "        for r in range(9):\n",
        "            for c in range(9):\n",
        "                if board[r][c] == winner:\n",
        "                    win_count_by_position[r, c] += 1\n",
        "                if board[r][c] != 0:\n",
        "                    fill_count_by_position[r, c] += 1\n",
        "\n",
        "# Calcular matriz de pro\n",
        "for _ in tqdm(range(N), desc=\"Simulando jogos\", unit=\"jogo\"):\n",
        "    game = Game()\n",
        "    first_move = game.getRandomMove()\n",
        "    game.move(first_move)\n",
        "\n",
        "    while not game.isEnd():\n",
        "        current_agent = agent1 if game.getCurrPlayer() == 1 else agent2\n",
        "        move = current_agent.getAction(game)\n",
        "        game.move(move)\n",
        "\n",
        "    winner = game.getWinner()\n",
        "    if winner != 0:\n",
        "        board = game.getBoard()\n",
        "        for r in range(9):\n",
        "            for c in range(9):\n",
        "                if board[r][c] == winner:\n",
        "                    win_count_by_position[r, c] += 1\n",
        "                if board[r][c] != 0:\n",
        "                    fill_count_by_position[r, c] += 1\n",
        "with np.errstate(divide='ignore', invalid='ignore'):\n",
        "    win_probability_matrix = np.true_divide(win_count_by_position, fill_count_by_position)\n",
        "    win_probability_matrix[np.isnan(win_probability_matrix)] = 0\n",
        "\n",
        "# Heatmap\n",
        "plt.figure(figsize=(8, 6))\n",
        "sns.heatmap(win_probability_matrix, annot=True, fmt=\".2f\", cmap=\"YlGnBu\", cbar_kws={'label': 'Probabilidade de vitória'})\n",
        "plt.title(\"Probabilidade de vitória por casa preenchida\\n(Minimax vs Hybrid)\")\n",
        "plt.xlabel(\"Coluna\")\n",
        "plt.ylabel(\"Linha\")\n",
        "plt.gca().invert_yaxis()\n",
        "plt.tight_layout()\n",
        "plt.show()\n"
      ]
    },
    {
      "cell_type": "code",
      "execution_count": 4,
      "metadata": {
        "colab": {
          "base_uri": "https://localhost:8080/"
        },
        "id": "KxmfcMgoGuld",
        "outputId": "c93d65a1-5209-458e-9fad-5a2c9d440ec0"
      },
      "outputs": [
        {
          "name": "stderr",
          "output_type": "stream",
          "text": [
            "Simulando jogos:   0%|          | 0/100 [00:00<?, ?it/s]"
          ]
        },
        {
          "name": "stderr",
          "output_type": "stream",
          "text": [
            "Simulando jogos: 100%|██████████| 100/100 [02:47<00:00,  1.67s/it]"
          ]
        },
        {
          "name": "stdout",
          "output_type": "stream",
          "text": [
            "\n",
            "Random (P1) venceu 7 jogos, Minimax (P2) venceu 91 jogos, 2 empates.\n",
            "✅ Arquivo 'victory_heatmap.txt' criado com sucesso!\n"
          ]
        },
        {
          "name": "stderr",
          "output_type": "stream",
          "text": [
            "\n"
          ]
        }
      ],
      "source": [
        "import tictactoe\n",
        "from agents import AlphaBetaAgent, RandomAgent\n",
        "import numpy as np\n",
        "from tqdm import tqdm  # <-- barra de progresso\n",
        "\n",
        "# Define os agentes\n",
        "agent1 = RandomAgent()               # Player 1\n",
        "agent2 = AlphaBetaAgent(depth=2)     # Player 2\n",
        "\n",
        "# Parâmetros\n",
        "n = 100\n",
        "dim = 3\n",
        "board_size = dim * dim\n",
        "victory_counts = np.zeros((board_size, board_size))\n",
        "\n",
        "def simulateGames(agent1, agent2, n=1000):\n",
        "    global victory_counts\n",
        "    wins1 = 0\n",
        "    wins2 = 0\n",
        "\n",
        "    for _ in tqdm(range(n), desc=\"Simulando jogos\"):\n",
        "        myGame = tictactoe.Game()\n",
        "        myGame.currPlayer = 1  # Player 1 (agent1) começa\n",
        "        history = []\n",
        "\n",
        "        while myGame.getMoves() and not myGame.isEnd():\n",
        "            move = agent1.getAction(myGame) if myGame.getNumMoves() % 2 == 0 else agent2.getAction(myGame)\n",
        "            history.append((myGame.currPlayer, move))\n",
        "            myGame.move(move)\n",
        "\n",
        "        winner = myGame.getWinner()\n",
        "        if winner == 1:\n",
        "            wins1 += 1\n",
        "        elif winner == -1:\n",
        "            wins2 += 1\n",
        "\n",
        "        for player, pos in history:\n",
        "            if player == winner:\n",
        "                victory_counts[pos[0], pos[1]] += 1\n",
        "\n",
        "    print(f'\\nRandom (P1) venceu {wins1} jogos, Minimax (P2) venceu {wins2} jogos, {n - wins1 - wins2} empates.')\n",
        "\n",
        "simulateGames(agent1, agent2, n)\n",
        "\n",
        "# Calcula proporções por casa\n",
        "victory_ratio = victory_counts / n\n",
        "\n",
        "# Salva os dados no formato pedido\n",
        "with open(\"victory_heatmap.txt\", \"w\") as f:\n",
        "    for row in range(board_size):\n",
        "        for col in range(board_size):\n",
        "            casa_num = row * board_size + col + 1\n",
        "            f.write(f\"{casa_num}: {victory_ratio[row, col]:.4f}\\n\")\n",
        "\n",
        "print(\"✅ Arquivo 'victory_heatmap.txt' criado com sucesso!\")\n"
      ]
    },
    {
      "cell_type": "code",
      "execution_count": null,
      "metadata": {
        "colab": {
          "base_uri": "https://localhost:8080/",
          "height": 607
        },
        "id": "M10o0HXkWsNO",
        "outputId": "e7bf3e6e-07cb-4a95-ca29-5f97d3daf186"
      },
      "outputs": [],
      "source": [
        "import numpy as np\n",
        "import seaborn as sns\n",
        "import matplotlib.pyplot as plt\n",
        "\n",
        "# Parâmetros do tabuleiro\n",
        "dim = 3\n",
        "board_size = dim * dim  # 9\n",
        "\n",
        "# Carregar os dados do arquivo\n",
        "data = np.zeros((board_size, board_size))\n",
        "\n",
        "with open(\"victory_heatmap.txt\", \"r\") as f:\n",
        "    for line in f:\n",
        "        casa, valor = line.strip().split(\":\")\n",
        "        casa = int(casa) - 1\n",
        "        row = casa // board_size\n",
        "        col = casa % board_size\n",
        "        data[row, col] = float(valor)\n",
        "\n",
        "# Criar o heatmap\n",
        "plt.figure(figsize=(8, 6))\n",
        "sns.heatmap(data, annot=True, fmt=\".3f\", cmap=\"YlGnBu\", cbar_kws={\"label\": \"Proporção de vitórias\"})\n",
        "plt.title(\"Heatmap de Ocupação das Casas pelo Jogador Vencedor\\n(Ultimate Tic Tac Toe - 1000 jogos)\")\n",
        "plt.xlabel(\"Colunas (1 a 9)\")\n",
        "plt.ylabel(\"Linhas (1 a 9)\")\n",
        "plt.tight_layout()\n",
        "plt.show()\n"
      ]
    },
    {
      "cell_type": "code",
      "execution_count": null,
      "metadata": {
        "colab": {
          "base_uri": "https://localhost:8080/",
          "height": 780
        },
        "id": "JNx6QZrEgbrX",
        "outputId": "1023b9f8-9cba-4e9c-86ca-de6adb6efd0f"
      },
      "outputs": [],
      "source": [
        "import numpy as np\n",
        "import matplotlib.pyplot as plt\n",
        "import seaborn as sns\n",
        "from tqdm import tqdm\n",
        "from agents import AlphaBetaAgent, RandomAgent\n",
        "import tictactoe\n",
        "\n",
        "# Parâmetros\n",
        "N_GAMES = 1000\n",
        "DIM = 3\n",
        "BOARD_SIZE = DIM * DIM  # 9x9\n",
        "victory_counts = np.zeros((BOARD_SIZE, BOARD_SIZE))\n",
        "\n",
        "# Agentes\n",
        "minimax = AlphaBetaAgent(depth=2)\n",
        "random_agent = RandomAgent()\n",
        "\n",
        "def simulate_game(minimax_first=True):\n",
        "    game = tictactoe.Game()\n",
        "    game.currPlayer = 1 if minimax_first else -1\n",
        "    history = []\n",
        "\n",
        "    while not game.isEnd():\n",
        "        if game.getCurrPlayer() == 1:\n",
        "            move = minimax.getAction(game) if minimax_first else random_agent.getAction(game)\n",
        "        else:\n",
        "            move = random_agent.getAction(game) if minimax_first else minimax.getAction(game)\n",
        "        history.append((game.getCurrPlayer(), move))\n",
        "        game.move(move)\n",
        "\n",
        "    winner = game.getWinner()\n",
        "    # Verifica se o minimax venceu\n",
        "    minimax_player = 1 if minimax_first else -1\n",
        "    if winner == minimax_player:\n",
        "        for player, pos in history:\n",
        "            if player == winner:\n",
        "                victory_counts[pos[0], pos[1]] += 1\n",
        "    return winner == minimax_player\n",
        "\n",
        "# Simulação com barra de progresso\n",
        "minimax_wins = 0\n",
        "for i in tqdm(range(N_GAMES), desc=\"Simulando vitórias do Minimax\"):\n",
        "    minimax_first = (i % 2 == 0)\n",
        "    won = simulate_game(minimax_first)\n",
        "    if won:\n",
        "        minimax_wins += 1\n",
        "\n",
        "# Calcula a frequência por casa (somente jogos ganhos pelo Minimax)\n",
        "victory_ratio = victory_counts / minimax_wins if minimax_wins > 0 else victory_counts\n",
        "\n",
        "# Salva em TXT\n",
        "with open(\"victory_heatmap_minimax.txt\", \"w\") as f:\n",
        "    for row in range(BOARD_SIZE):\n",
        "        for col in range(BOARD_SIZE):\n",
        "            casa_num = row * BOARD_SIZE + col + 1\n",
        "            f.write(f\"{casa_num}: {victory_ratio[row, col]:.4f}\\n\")\n",
        "\n",
        "# Gera Heatmap\n",
        "plt.figure(figsize=(9, 7))\n",
        "sns.heatmap(victory_ratio, annot=True, fmt=\".3f\", cmap=\"Greens\", cbar_kws={'label': 'Frequência (vitórias do Minimax)'})\n",
        "plt.title(\"Heatmap das Casas Ocupadas nas Vitórias do Minimax\")\n",
        "plt.xlabel(\"Colunas do Tabuleiro (1 a 9)\")\n",
        "plt.ylabel(\"Linhas do Tabuleiro (1 a 9)\")\n",
        "plt.tight_layout()\n",
        "plt.savefig(\"victory_heatmap_minimax.png\", dpi=300)\n",
        "plt.show()\n",
        "\n",
        "# Resultado\n",
        "print(f\"\\n✅ Arquivo 'victory_heatmap_minimax.txt' e imagem 'victory_heatmap_minimax.png' gerados com sucesso!\")\n",
        "print(f\"🏆 Total de vitórias do Minimax: {minimax_wins} de {N_GAMES} jogos ({100 * minimax_wins / N_GAMES:.1f}%)\")\n"
      ]
    }
  ],
  "metadata": {
    "colab": {
      "provenance": []
    },
    "kernelspec": {
      "display_name": "Python 3",
      "name": "python3"
    },
    "language_info": {
      "codemirror_mode": {
        "name": "ipython",
        "version": 3
      },
      "file_extension": ".py",
      "mimetype": "text/x-python",
      "name": "python",
      "nbconvert_exporter": "python",
      "pygments_lexer": "ipython3",
      "version": "3.8.10"
    },
    "widgets": {
      "application/vnd.jupyter.widget-state+json": {
        "07357c87a67340748e31af8a6233a39d": {
          "model_module": "@jupyter-widgets/base",
          "model_module_version": "1.2.0",
          "model_name": "LayoutModel",
          "state": {
            "_model_module": "@jupyter-widgets/base",
            "_model_module_version": "1.2.0",
            "_model_name": "LayoutModel",
            "_view_count": null,
            "_view_module": "@jupyter-widgets/base",
            "_view_module_version": "1.2.0",
            "_view_name": "LayoutView",
            "align_content": null,
            "align_items": null,
            "align_self": null,
            "border": null,
            "bottom": null,
            "display": null,
            "flex": null,
            "flex_flow": null,
            "grid_area": null,
            "grid_auto_columns": null,
            "grid_auto_flow": null,
            "grid_auto_rows": null,
            "grid_column": null,
            "grid_gap": null,
            "grid_row": null,
            "grid_template_areas": null,
            "grid_template_columns": null,
            "grid_template_rows": null,
            "height": null,
            "justify_content": null,
            "justify_items": null,
            "left": null,
            "margin": null,
            "max_height": null,
            "max_width": null,
            "min_height": null,
            "min_width": null,
            "object_fit": null,
            "object_position": null,
            "order": null,
            "overflow": null,
            "overflow_x": null,
            "overflow_y": null,
            "padding": null,
            "right": null,
            "top": null,
            "visibility": null,
            "width": null
          }
        },
        "0ea48201e9354345b1da0ecf7863e3a4": {
          "model_module": "@jupyter-widgets/controls",
          "model_module_version": "1.5.0",
          "model_name": "HTMLModel",
          "state": {
            "_dom_classes": [],
            "_model_module": "@jupyter-widgets/controls",
            "_model_module_version": "1.5.0",
            "_model_name": "HTMLModel",
            "_view_count": null,
            "_view_module": "@jupyter-widgets/controls",
            "_view_module_version": "1.5.0",
            "_view_name": "HTMLView",
            "description": "",
            "description_tooltip": null,
            "layout": "IPY_MODEL_ff4a03ac564c448ab747bf3220d69cca",
            "placeholder": "​",
            "style": "IPY_MODEL_79aa178c03f140f2b51d8759a7df632e",
            "value": "Simulando jogos: 100%"
          }
        },
        "38e8739c7cea47c9baacdf6ddc1da65a": {
          "model_module": "@jupyter-widgets/base",
          "model_module_version": "1.2.0",
          "model_name": "LayoutModel",
          "state": {
            "_model_module": "@jupyter-widgets/base",
            "_model_module_version": "1.2.0",
            "_model_name": "LayoutModel",
            "_view_count": null,
            "_view_module": "@jupyter-widgets/base",
            "_view_module_version": "1.2.0",
            "_view_name": "LayoutView",
            "align_content": null,
            "align_items": null,
            "align_self": null,
            "border": null,
            "bottom": null,
            "display": null,
            "flex": null,
            "flex_flow": null,
            "grid_area": null,
            "grid_auto_columns": null,
            "grid_auto_flow": null,
            "grid_auto_rows": null,
            "grid_column": null,
            "grid_gap": null,
            "grid_row": null,
            "grid_template_areas": null,
            "grid_template_columns": null,
            "grid_template_rows": null,
            "height": null,
            "justify_content": null,
            "justify_items": null,
            "left": null,
            "margin": null,
            "max_height": null,
            "max_width": null,
            "min_height": null,
            "min_width": null,
            "object_fit": null,
            "object_position": null,
            "order": null,
            "overflow": null,
            "overflow_x": null,
            "overflow_y": null,
            "padding": null,
            "right": null,
            "top": null,
            "visibility": null,
            "width": null
          }
        },
        "438c64f82c4044628aa4d728626add97": {
          "model_module": "@jupyter-widgets/controls",
          "model_module_version": "1.5.0",
          "model_name": "ProgressStyleModel",
          "state": {
            "_model_module": "@jupyter-widgets/controls",
            "_model_module_version": "1.5.0",
            "_model_name": "ProgressStyleModel",
            "_view_count": null,
            "_view_module": "@jupyter-widgets/base",
            "_view_module_version": "1.2.0",
            "_view_name": "StyleView",
            "bar_color": null,
            "description_width": ""
          }
        },
        "4e7a0da4830c4fed8d64876160ed8013": {
          "model_module": "@jupyter-widgets/base",
          "model_module_version": "1.2.0",
          "model_name": "LayoutModel",
          "state": {
            "_model_module": "@jupyter-widgets/base",
            "_model_module_version": "1.2.0",
            "_model_name": "LayoutModel",
            "_view_count": null,
            "_view_module": "@jupyter-widgets/base",
            "_view_module_version": "1.2.0",
            "_view_name": "LayoutView",
            "align_content": null,
            "align_items": null,
            "align_self": null,
            "border": null,
            "bottom": null,
            "display": null,
            "flex": null,
            "flex_flow": null,
            "grid_area": null,
            "grid_auto_columns": null,
            "grid_auto_flow": null,
            "grid_auto_rows": null,
            "grid_column": null,
            "grid_gap": null,
            "grid_row": null,
            "grid_template_areas": null,
            "grid_template_columns": null,
            "grid_template_rows": null,
            "height": null,
            "justify_content": null,
            "justify_items": null,
            "left": null,
            "margin": null,
            "max_height": null,
            "max_width": null,
            "min_height": null,
            "min_width": null,
            "object_fit": null,
            "object_position": null,
            "order": null,
            "overflow": null,
            "overflow_x": null,
            "overflow_y": null,
            "padding": null,
            "right": null,
            "top": null,
            "visibility": null,
            "width": null
          }
        },
        "5b58c6e8f8bd481e931f0d9732dd4644": {
          "model_module": "@jupyter-widgets/controls",
          "model_module_version": "1.5.0",
          "model_name": "HBoxModel",
          "state": {
            "_dom_classes": [],
            "_model_module": "@jupyter-widgets/controls",
            "_model_module_version": "1.5.0",
            "_model_name": "HBoxModel",
            "_view_count": null,
            "_view_module": "@jupyter-widgets/controls",
            "_view_module_version": "1.5.0",
            "_view_name": "HBoxView",
            "box_style": "",
            "children": [
              "IPY_MODEL_0ea48201e9354345b1da0ecf7863e3a4",
              "IPY_MODEL_bd50576baeb34c3ea37310b11e6a0570",
              "IPY_MODEL_ca761a28877742658137b7c1b82fa554"
            ],
            "layout": "IPY_MODEL_07357c87a67340748e31af8a6233a39d"
          }
        },
        "79aa178c03f140f2b51d8759a7df632e": {
          "model_module": "@jupyter-widgets/controls",
          "model_module_version": "1.5.0",
          "model_name": "DescriptionStyleModel",
          "state": {
            "_model_module": "@jupyter-widgets/controls",
            "_model_module_version": "1.5.0",
            "_model_name": "DescriptionStyleModel",
            "_view_count": null,
            "_view_module": "@jupyter-widgets/base",
            "_view_module_version": "1.2.0",
            "_view_name": "StyleView",
            "description_width": ""
          }
        },
        "bd50576baeb34c3ea37310b11e6a0570": {
          "model_module": "@jupyter-widgets/controls",
          "model_module_version": "1.5.0",
          "model_name": "FloatProgressModel",
          "state": {
            "_dom_classes": [],
            "_model_module": "@jupyter-widgets/controls",
            "_model_module_version": "1.5.0",
            "_model_name": "FloatProgressModel",
            "_view_count": null,
            "_view_module": "@jupyter-widgets/controls",
            "_view_module_version": "1.5.0",
            "_view_name": "ProgressView",
            "bar_style": "success",
            "description": "",
            "description_tooltip": null,
            "layout": "IPY_MODEL_4e7a0da4830c4fed8d64876160ed8013",
            "max": 1000,
            "min": 0,
            "orientation": "horizontal",
            "style": "IPY_MODEL_438c64f82c4044628aa4d728626add97",
            "value": 1000
          }
        },
        "ca761a28877742658137b7c1b82fa554": {
          "model_module": "@jupyter-widgets/controls",
          "model_module_version": "1.5.0",
          "model_name": "HTMLModel",
          "state": {
            "_dom_classes": [],
            "_model_module": "@jupyter-widgets/controls",
            "_model_module_version": "1.5.0",
            "_model_name": "HTMLModel",
            "_view_count": null,
            "_view_module": "@jupyter-widgets/controls",
            "_view_module_version": "1.5.0",
            "_view_name": "HTMLView",
            "description": "",
            "description_tooltip": null,
            "layout": "IPY_MODEL_38e8739c7cea47c9baacdf6ddc1da65a",
            "placeholder": "​",
            "style": "IPY_MODEL_ee69af45d6bc4bb19ae456f55198d94e",
            "value": " 1000/1000 [03:08&lt;00:00,  4.54jogo/s]"
          }
        },
        "ee69af45d6bc4bb19ae456f55198d94e": {
          "model_module": "@jupyter-widgets/controls",
          "model_module_version": "1.5.0",
          "model_name": "DescriptionStyleModel",
          "state": {
            "_model_module": "@jupyter-widgets/controls",
            "_model_module_version": "1.5.0",
            "_model_name": "DescriptionStyleModel",
            "_view_count": null,
            "_view_module": "@jupyter-widgets/base",
            "_view_module_version": "1.2.0",
            "_view_name": "StyleView",
            "description_width": ""
          }
        },
        "ff4a03ac564c448ab747bf3220d69cca": {
          "model_module": "@jupyter-widgets/base",
          "model_module_version": "1.2.0",
          "model_name": "LayoutModel",
          "state": {
            "_model_module": "@jupyter-widgets/base",
            "_model_module_version": "1.2.0",
            "_model_name": "LayoutModel",
            "_view_count": null,
            "_view_module": "@jupyter-widgets/base",
            "_view_module_version": "1.2.0",
            "_view_name": "LayoutView",
            "align_content": null,
            "align_items": null,
            "align_self": null,
            "border": null,
            "bottom": null,
            "display": null,
            "flex": null,
            "flex_flow": null,
            "grid_area": null,
            "grid_auto_columns": null,
            "grid_auto_flow": null,
            "grid_auto_rows": null,
            "grid_column": null,
            "grid_gap": null,
            "grid_row": null,
            "grid_template_areas": null,
            "grid_template_columns": null,
            "grid_template_rows": null,
            "height": null,
            "justify_content": null,
            "justify_items": null,
            "left": null,
            "margin": null,
            "max_height": null,
            "max_width": null,
            "min_height": null,
            "min_width": null,
            "object_fit": null,
            "object_position": null,
            "order": null,
            "overflow": null,
            "overflow_x": null,
            "overflow_y": null,
            "padding": null,
            "right": null,
            "top": null,
            "visibility": null,
            "width": null
          }
        }
      }
    }
  },
  "nbformat": 4,
  "nbformat_minor": 0
}
